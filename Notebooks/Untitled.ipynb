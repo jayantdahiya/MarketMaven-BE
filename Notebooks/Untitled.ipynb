{
 "cells": [
  {
   "cell_type": "code",
   "execution_count": 55,
   "id": "49150528",
   "metadata": {},
   "outputs": [],
   "source": [
    "import pandas as pd\n",
    "import yfinance as yf \n",
    "import numpy as np"
   ]
  },
  {
   "cell_type": "code",
   "execution_count": 56,
   "id": "0336beb8",
   "metadata": {},
   "outputs": [
    {
     "name": "stdout",
     "output_type": "stream",
     "text": [
      "Collecting prophet\n",
      "  Using cached prophet-1.1.2.tar.gz (67 kB)\n",
      "  Installing build dependencies ... \u001b[?25ldone\n",
      "\u001b[?25h  Getting requirements to build wheel ... \u001b[?25ldone\n",
      "\u001b[?25h  Preparing metadata (pyproject.toml) ... \u001b[?25ldone\n",
      "\u001b[?25hCollecting cmdstanpy>=1.0.4\n",
      "  Using cached cmdstanpy-1.1.0-py3-none-any.whl (83 kB)\n",
      "Requirement already satisfied: python-dateutil>=2.8.0 in /opt/miniconda3/lib/python3.9/site-packages (from prophet) (2.8.2)\n",
      "Collecting LunarCalendar>=0.0.9\n",
      "  Using cached LunarCalendar-0.0.9-py2.py3-none-any.whl (18 kB)\n",
      "Collecting holidays>=0.14.2\n",
      "  Downloading holidays-0.19-py3-none-any.whl (208 kB)\n",
      "\u001b[2K     \u001b[38;2;114;156;31m━━━━━━━━━━━━━━━━━━━━━━━━━━━━━━━━━━━━━━━\u001b[0m \u001b[32m208.5/208.5 kB\u001b[0m \u001b[31m1.8 MB/s\u001b[0m eta \u001b[36m0:00:00\u001b[0m[31m1.7 MB/s\u001b[0m eta \u001b[36m0:00:01\u001b[0m\n",
      "\u001b[?25hCollecting pandas>=1.0.4\n",
      "  Using cached pandas-1.5.3-cp39-cp39-macosx_11_0_arm64.whl (11.0 MB)\n",
      "Collecting matplotlib>=2.0.0\n",
      "  Downloading matplotlib-3.7.0-cp39-cp39-macosx_11_0_arm64.whl (7.3 MB)\n",
      "\u001b[2K     \u001b[38;2;114;156;31m━━━━━━━━━━━━━━━━━━━━━━━━━━━━━━━━━━━━━━━━\u001b[0m \u001b[32m7.3/7.3 MB\u001b[0m \u001b[31m10.0 MB/s\u001b[0m eta \u001b[36m0:00:00\u001b[0mm eta \u001b[36m0:00:01\u001b[0m36m0:00:01\u001b[0mm\n",
      "\u001b[?25hRequirement already satisfied: numpy>=1.15.4 in /opt/miniconda3/lib/python3.9/site-packages (from prophet) (1.22.3)\n",
      "Requirement already satisfied: tqdm>=4.36.1 in /opt/miniconda3/lib/python3.9/site-packages (from prophet) (4.64.0)\n",
      "Collecting convertdate>=2.1.2\n",
      "  Using cached convertdate-2.4.0-py3-none-any.whl (47 kB)\n",
      "Collecting pymeeus<=1,>=0.3.13\n",
      "  Using cached PyMeeus-0.5.12.tar.gz (5.8 MB)\n",
      "  Preparing metadata (setup.py) ... \u001b[?25ldone\n",
      "\u001b[?25hCollecting korean-lunar-calendar\n",
      "  Using cached korean_lunar_calendar-0.3.1-py3-none-any.whl (9.0 kB)\n",
      "Collecting hijri-converter\n",
      "  Using cached hijri_converter-2.2.4-py3-none-any.whl (14 kB)\n",
      "Collecting pytz\n",
      "  Using cached pytz-2022.7.1-py2.py3-none-any.whl (499 kB)\n",
      "Collecting ephem>=3.7.5.3\n",
      "  Using cached ephem-4.1.4.tar.gz (1.3 MB)\n",
      "  Preparing metadata (setup.py) ... \u001b[?25ldone\n",
      "\u001b[?25hRequirement already satisfied: pyparsing>=2.3.1 in /opt/miniconda3/lib/python3.9/site-packages (from matplotlib>=2.0.0->prophet) (3.0.9)\n",
      "Collecting cycler>=0.10\n",
      "  Using cached cycler-0.11.0-py3-none-any.whl (6.4 kB)\n",
      "Requirement already satisfied: packaging>=20.0 in /opt/miniconda3/lib/python3.9/site-packages (from matplotlib>=2.0.0->prophet) (21.3)\n",
      "Collecting importlib-resources>=3.2.0\n",
      "  Downloading importlib_resources-5.10.2-py3-none-any.whl (34 kB)\n",
      "Collecting fonttools>=4.22.0\n",
      "  Using cached fonttools-4.38.0-py3-none-any.whl (965 kB)\n",
      "Requirement already satisfied: pillow>=6.2.0 in /opt/miniconda3/lib/python3.9/site-packages (from matplotlib>=2.0.0->prophet) (9.4.0)\n",
      "Collecting kiwisolver>=1.0.1\n",
      "  Using cached kiwisolver-1.4.4-cp39-cp39-macosx_11_0_arm64.whl (63 kB)\n",
      "Collecting contourpy>=1.0.1\n",
      "  Using cached contourpy-1.0.7-cp39-cp39-macosx_11_0_arm64.whl (229 kB)\n",
      "Requirement already satisfied: six>=1.5 in /opt/miniconda3/lib/python3.9/site-packages (from python-dateutil>=2.8.0->prophet) (1.16.0)\n",
      "Requirement already satisfied: zipp>=3.1.0 in /opt/miniconda3/lib/python3.9/site-packages (from importlib-resources>=3.2.0->matplotlib>=2.0.0->prophet) (3.8.1)\n",
      "Building wheels for collected packages: prophet, ephem, pymeeus\n",
      "  Building wheel for prophet (pyproject.toml) ... \u001b[?25ldone\n",
      "\u001b[?25h  Created wheel for prophet: filename=prophet-1.1.2-py3-none-macosx_11_0_arm64.whl size=6329861 sha256=c343e64f9d2e38e935e6bdcbde435438829689387f68d66c83fa0e8b7a52b581\n",
      "  Stored in directory: /Users/jayantdahiya/Library/Caches/pip/wheels/00/1f/ea/3d485fc50bb9329eea9c61ca25dd4e2244572dd01ee5393bd7\n",
      "  Building wheel for ephem (setup.py) ... \u001b[?25ldone\n",
      "\u001b[?25h  Created wheel for ephem: filename=ephem-4.1.4-cp39-cp39-macosx_11_0_arm64.whl size=1425193 sha256=b2565b5bde1bf7f2e67c9f598e77faadd3b4c38c061c1163a134a351f6172c6c\n",
      "  Stored in directory: /Users/jayantdahiya/Library/Caches/pip/wheels/c9/95/ed/fea0cec23a885e02c6fe4d0741320f715893734e665d5fad8e\n",
      "  Building wheel for pymeeus (setup.py) ... \u001b[?25ldone\n",
      "\u001b[?25h  Created wheel for pymeeus: filename=PyMeeus-0.5.12-py3-none-any.whl size=732001 sha256=bc2591f38d769d5dd460c8d89921902488ed15f7a406daf6c28cf55719cc906e\n",
      "  Stored in directory: /Users/jayantdahiya/Library/Caches/pip/wheels/9b/0a/31/eb0e590d74ec13e90493cb6d1cd92a379a1a3b8f12ed778a14\n",
      "Successfully built prophet ephem pymeeus\n",
      "Installing collected packages: pytz, pymeeus, korean-lunar-calendar, ephem, kiwisolver, importlib-resources, hijri-converter, fonttools, cycler, convertdate, contourpy, pandas, matplotlib, LunarCalendar, holidays, cmdstanpy, prophet\n",
      "Successfully installed LunarCalendar-0.0.9 cmdstanpy-1.1.0 contourpy-1.0.7 convertdate-2.4.0 cycler-0.11.0 ephem-4.1.4 fonttools-4.38.0 hijri-converter-2.2.4 holidays-0.19 importlib-resources-5.10.2 kiwisolver-1.4.4 korean-lunar-calendar-0.3.1 matplotlib-3.7.0 pandas-1.5.3 prophet-1.1.2 pymeeus-0.5.12 pytz-2022.7.1\n",
      "\n",
      "\u001b[1m[\u001b[0m\u001b[34;49mnotice\u001b[0m\u001b[1;39;49m]\u001b[0m\u001b[39;49m A new release of pip available: \u001b[0m\u001b[31;49m22.3.1\u001b[0m\u001b[39;49m -> \u001b[0m\u001b[32;49m23.0\u001b[0m\n",
      "\u001b[1m[\u001b[0m\u001b[34;49mnotice\u001b[0m\u001b[1;39;49m]\u001b[0m\u001b[39;49m To update, run: \u001b[0m\u001b[32;49mpip install --upgrade pip\u001b[0m\n"
     ]
    }
   ],
   "source": [
    "!pip install prophet"
   ]
  },
  {
   "cell_type": "code",
   "execution_count": null,
   "id": "186478ae",
   "metadata": {},
   "outputs": [],
   "source": []
  }
 ],
 "metadata": {
  "kernelspec": {
   "display_name": "Python 3 (ipykernel)",
   "language": "python",
   "name": "python3"
  },
  "language_info": {
   "codemirror_mode": {
    "name": "ipython",
    "version": 3
   },
   "file_extension": ".py",
   "mimetype": "text/x-python",
   "name": "python",
   "nbconvert_exporter": "python",
   "pygments_lexer": "ipython3",
   "version": "3.9.13"
  }
 },
 "nbformat": 4,
 "nbformat_minor": 5
}
