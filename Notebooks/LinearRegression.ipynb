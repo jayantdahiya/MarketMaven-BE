{
 "cells": [
  {
   "cell_type": "code",
   "execution_count": 1,
   "id": "21dfaad9",
   "metadata": {},
   "outputs": [
    {
     "name": "stderr",
     "output_type": "stream",
     "text": [
      "/opt/miniconda3/envs/notebook/lib/python3.9/site-packages/scipy/__init__.py:146: UserWarning: A NumPy version >=1.16.5 and <1.23.0 is required for this version of SciPy (detected version 1.23.2\n",
      "  warnings.warn(f\"A NumPy version >={np_minversion} and <{np_maxversion}\"\n"
     ]
    }
   ],
   "source": [
    "import pandas as pd\n",
    "import yfinance as yf \n",
    "import numpy as np\n",
    "import pandas_ta\n",
    "from sklearn.linear_model import LinearRegression\n",
    "from sklearn.model_selection import train_test_split\n",
    "from sklearn.metrics import mean_squared_error, r2_score, mean_absolute_error"
   ]
  },
  {
   "cell_type": "code",
   "execution_count": 23,
   "id": "1a512eb7",
   "metadata": {},
   "outputs": [],
   "source": [
    "ticker_name = 'AAPL'\n",
    "data = yf.Ticker(ticker_name).history(period='max', interval='1d')\n",
    "data = data[['Close']]\n",
    "data.index = data.index.date\n",
    "data.set_index(pd.DatetimeIndex(data.index), inplace = True)"
   ]
  },
  {
   "cell_type": "code",
   "execution_count": 24,
   "id": "57602106",
   "metadata": {
    "scrolled": true
   },
   "outputs": [],
   "source": [
    "data.ta.ema(close='Close', length = 10, append = True)\n",
    "data = data.iloc[10:]"
   ]
  },
  {
   "cell_type": "code",
   "execution_count": 31,
   "id": "baaf2e38",
   "metadata": {},
   "outputs": [],
   "source": [
    "X_train, X_test, Y_train, Y_test = train_test_split(data[['Close']], data[['EMA_10']], test_size=0.2, shuffle=False) "
   ]
  },
  {
   "cell_type": "code",
   "execution_count": 38,
   "id": "36022146",
   "metadata": {},
   "outputs": [],
   "source": [
    "model = LinearRegression()\n",
    "\n",
    "model.fit(X_train, Y_train)\n",
    "\n",
    "Y_pred = model.predict(X_test)"
   ]
  },
  {
   "cell_type": "code",
   "execution_count": 33,
   "id": "238a65e4",
   "metadata": {},
   "outputs": [
    {
     "name": "stdout",
     "output_type": "stream",
     "text": [
      "Model coefficients:  [[0.99483904]]\n",
      "Mean absolute error:  1.4350242296491376\n",
      "Coefficient of Determination:  0.997823454009631\n"
     ]
    }
   ],
   "source": [
    "print('Model coefficients: ', model.coef_)\n",
    "print('Mean absolute error: ', mean_absolute_error(Y_test, Y_pred))\n",
    "print('Coefficient of Determination: ', r2_score(Y_test, Y_pred))"
   ]
  },
  {
   "cell_type": "code",
   "execution_count": 20,
   "id": "8bdb84c2",
   "metadata": {},
   "outputs": [],
   "source": [
    "import datetime\n",
    "\n",
    "df = []\n",
    "today = datetime.date.today()\n",
    "for i in range(7):\n",
    "    today += datetime.timedelta(days=1)\n",
    "    df.append(today)"
   ]
  },
  {
   "cell_type": "code",
   "execution_count": 37,
   "id": "44b9abeb",
   "metadata": {},
   "outputs": [
    {
     "data": {
      "text/html": [
       "<div>\n",
       "<style scoped>\n",
       "    .dataframe tbody tr th:only-of-type {\n",
       "        vertical-align: middle;\n",
       "    }\n",
       "\n",
       "    .dataframe tbody tr th {\n",
       "        vertical-align: top;\n",
       "    }\n",
       "\n",
       "    .dataframe thead th {\n",
       "        text-align: right;\n",
       "    }\n",
       "</style>\n",
       "<table border=\"1\" class=\"dataframe\">\n",
       "  <thead>\n",
       "    <tr style=\"text-align: right;\">\n",
       "      <th></th>\n",
       "      <th>Close</th>\n",
       "    </tr>\n",
       "  </thead>\n",
       "  <tbody>\n",
       "    <tr>\n",
       "      <th>2014-09-09</th>\n",
       "      <td>21.922615</td>\n",
       "    </tr>\n",
       "    <tr>\n",
       "      <th>2014-09-10</th>\n",
       "      <td>22.596024</td>\n",
       "    </tr>\n",
       "    <tr>\n",
       "      <th>2014-09-11</th>\n",
       "      <td>22.692223</td>\n",
       "    </tr>\n",
       "    <tr>\n",
       "      <th>2014-09-12</th>\n",
       "      <td>22.743681</td>\n",
       "    </tr>\n",
       "    <tr>\n",
       "      <th>2014-09-15</th>\n",
       "      <td>22.736973</td>\n",
       "    </tr>\n",
       "    <tr>\n",
       "      <th>...</th>\n",
       "      <td>...</td>\n",
       "    </tr>\n",
       "    <tr>\n",
       "      <th>2023-02-09</th>\n",
       "      <td>150.639999</td>\n",
       "    </tr>\n",
       "    <tr>\n",
       "      <th>2023-02-10</th>\n",
       "      <td>151.009995</td>\n",
       "    </tr>\n",
       "    <tr>\n",
       "      <th>2023-02-13</th>\n",
       "      <td>153.850006</td>\n",
       "    </tr>\n",
       "    <tr>\n",
       "      <th>2023-02-14</th>\n",
       "      <td>153.199997</td>\n",
       "    </tr>\n",
       "    <tr>\n",
       "      <th>2023-02-15</th>\n",
       "      <td>155.000000</td>\n",
       "    </tr>\n",
       "  </tbody>\n",
       "</table>\n",
       "<p>2125 rows × 1 columns</p>\n",
       "</div>"
      ],
      "text/plain": [
       "                 Close\n",
       "2014-09-09   21.922615\n",
       "2014-09-10   22.596024\n",
       "2014-09-11   22.692223\n",
       "2014-09-12   22.743681\n",
       "2014-09-15   22.736973\n",
       "...                ...\n",
       "2023-02-09  150.639999\n",
       "2023-02-10  151.009995\n",
       "2023-02-13  153.850006\n",
       "2023-02-14  153.199997\n",
       "2023-02-15  155.000000\n",
       "\n",
       "[2125 rows x 1 columns]"
      ]
     },
     "execution_count": 37,
     "metadata": {},
     "output_type": "execute_result"
    }
   ],
   "source": [
    "X_test"
   ]
  },
  {
   "cell_type": "code",
   "execution_count": null,
   "id": "c3f0ac6a",
   "metadata": {},
   "outputs": [],
   "source": []
  }
 ],
 "metadata": {
  "kernelspec": {
   "display_name": "Python 3 (ipykernel)",
   "language": "python",
   "name": "python3"
  },
  "language_info": {
   "codemirror_mode": {
    "name": "ipython",
    "version": 3
   },
   "file_extension": ".py",
   "mimetype": "text/x-python",
   "name": "python",
   "nbconvert_exporter": "python",
   "pygments_lexer": "ipython3",
   "version": "3.9.13"
  }
 },
 "nbformat": 4,
 "nbformat_minor": 5
}
